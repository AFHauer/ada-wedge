{
 "cells": [
  {
   "cell_type": "code",
   "execution_count": null,
   "metadata": {},
   "outputs": [],
   "source": [
    "#import connection services to google big query and connect\n",
    "from google.cloud import bigquery\n",
    "from google.oauth2 import service_account\n",
    "\n",
    "service_path = \"C:\\\\Users\\\\hauer\\\\OneDrive - The University of Montana\\\\MSBA\\\\BMKT 670 Applied Data Analytics\\\\Wedge Project\\\\\"\n",
    "service_file = 'hauer-ada-wedgeproject-2894572d63a8.json' # this is your authentication information  \n",
    "gbq_proj_id = 'hauer-ada-wedgeproject'  # change this to your project_id\n",
    "gbq_dataset_id = 'wedge_full' # and change this to your data set ID\n",
    "\n",
    "private_key = service_path + service_file\n",
    "\n",
    "# Get your credentials\n",
    "credentials = service_account.Credentials.from_service_account_file(service_path + service_file)\n",
    "\n",
    "# And create a client to talk to GBQ\n",
    "client = bigquery.Client(credentials = credentials, project=gbq_proj_id)"
   ]
  },
  {
   "cell_type": "code",
   "execution_count": null,
   "metadata": {},
   "outputs": [],
   "source": [
    "# set a query for GBQ that asks for unique owners who are not equal to 3 - the code for nonowners\n",
    "query = (\n",
    "    \"SELECT DISTINCT card_no \"\n",
    "    \"FROM `wedge_full.transArchive_clean` \"\n",
    "    \"WHERE card_no != 3 \"\n",
    ")\n",
    "\n",
    "# execute the query in GBQ with `client.query`\n",
    "results = client.query(\n",
    "    query,\n",
    "    location=\"US\",\n",
    ")"
   ]
  },
  {
   "cell_type": "code",
   "execution_count": null,
   "metadata": {},
   "outputs": [],
   "source": [
    "# view the number of items returned by the query\n",
    "len(list(results))"
   ]
  },
  {
   "cell_type": "code",
   "execution_count": null,
   "metadata": {},
   "outputs": [],
   "source": [
    "# view the first 10 results of the query\n",
    "list(results)[:10]"
   ]
  },
  {
   "cell_type": "code",
   "execution_count": null,
   "metadata": {},
   "outputs": [],
   "source": [
    "# import the python random pacage to randomly sample the results of the owner query\n",
    "import random\n",
    "\n",
    "# set the owners value to empty\n",
    "owners = []\n",
    "\n",
    "# add sampled owner to the owners list\n",
    "for owner in results :\n",
    "    owners.append(owner[0])\n",
    "\n",
    "# random sample owners from the query\n",
    "sample = random.choices(owners, k=475)\n",
    "new_sample = list(sample)\n",
    "\n",
    "# show the sampled owners\n",
    "print(sample)"
   ]
  },
  {
   "cell_type": "code",
   "execution_count": null,
   "metadata": {},
   "outputs": [],
   "source": [
    "# create a new query for GBQ using the random sample of owners\n",
    "query = (\n",
    "    \"SELECT * \"\n",
    "    \"FROM `wedge_full.transArchive_clean` \"\n",
    "    \"WHERE card_no in ( \"\n",
    ")\n",
    "\n",
    "for card in sample:\n",
    "    query += str(card) + \", \"\n",
    "query = query[:-2] + ')'\n",
    "\n",
    "# execute the query in GBQ with `client.query`\n",
    "results = client.query(\n",
    "    query,\n",
    "    location=\"US\",\n",
    ")"
   ]
  },
  {
   "cell_type": "code",
   "execution_count": null,
   "metadata": {},
   "outputs": [],
   "source": [
    "# set up headers for the text file with the data returned from the sampled owners query\n",
    "headers = [\"datetime\",\"register_no\",\"emp_no\",\"trans_no\",\"upc\",\"description\",\"trans_type\",\"trans_subtype\",\"trans_status\",\"department\",\"quantity\",\"Scale\",\"cost\",\"unitPrice\",\"total\",\"regPrice\",\"altPrice\",\"tax\",\"taxexempt\",\"foodstamp\",\"wicable\",\"discount\",\"memDiscount\",\"discountable\",\"discounttype\",\"voided\",\"percentDiscount\",\"ItemQtty\",\"volDiscType\",\"volume\",\"VolSpecial\",\"mixMatch\",\"matched\",\"memType\",\"staff\",\"numflag\",\"itemstatus\",\"tenderstatus\",\"charflag\",\"varflag\",\"batchHeaderID\",\"local\",\"organic\",\"display\",\"receipt\",\"card_no\",\"store\",\"branch\",\"match_id\",\"trans_id\"]\n",
    "\n",
    "# create and save the data returned from the sampled owners into a text file with the headers\n",
    "with open('sample_owners_trans.txt', 'w') as outfile :\n",
    "    outfile.write(','.join(headers) + \"\\n\") \n",
    "    for line in results :\n",
    "        row = [str(item) for item in line]\n",
    "        outfile.write(\",\".join(row) + \"\\n\")"
   ]
  }
 ],
 "metadata": {
  "kernelspec": {
   "display_name": "Python 3",
   "language": "python",
   "name": "python3"
  },
  "language_info": {
   "codemirror_mode": {
    "name": "ipython",
    "version": 3
   },
   "file_extension": ".py",
   "mimetype": "text/x-python",
   "name": "python",
   "nbconvert_exporter": "python",
   "pygments_lexer": "ipython3",
   "version": "3.8.3"
  }
 },
 "nbformat": 4,
 "nbformat_minor": 4
}
