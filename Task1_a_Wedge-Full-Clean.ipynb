{
 "cells": [
  {
   "cell_type": "code",
   "execution_count": null,
   "metadata": {},
   "outputs": [],
   "source": [
    "#load python packages\n",
    "import os\n",
    "import io\n",
    "import csv\n",
    "import zipfile"
   ]
  },
  {
   "cell_type": "code",
   "execution_count": null,
   "metadata": {},
   "outputs": [],
   "source": [
    "#Import the Wedge Zipfiles\n",
    "zip_files = os.listdir(\"WedgeZipFiles/ZipFiles/\")\n",
    "from zipfile import ZipFile"
   ]
  },
  {
   "cell_type": "code",
   "execution_count": null,
   "metadata": {},
   "outputs": [],
   "source": [
    "# Check wedge data for delimiters and delimiter type\n",
    "delimiters = dict()\n",
    "\n",
    "# Start by reading in all the files again.\n",
    "\n",
    "for this_zf in zip_files :\n",
    "    with ZipFile(\"WedgeZipFiles/ZipFiles/\" + this_zf,'r') as zf :\n",
    "        zipped_files = zf.namelist()\n",
    "\n",
    "        for file_name in zipped_files :\n",
    "            input_file = zf.open(file_name,'r')\n",
    "            input_file = io.TextIOWrapper(input_file,encoding=\"utf-8\")\n",
    "            \n",
    "            dialect = csv.Sniffer().sniff(sample=input_file.readline(),\n",
    "                                      delimiters=[\",\",\";\",\"\\t\"])\n",
    "            \n",
    "            delimiters[file_name] = dialect.delimiter\n",
    "            \n",
    "            #input_file.seek(0)\n",
    "            \n",
    "            print(\" \".join([\"It looks like\",\n",
    "                           file_name,\n",
    "                           \"has delimiter\",\n",
    "                           dialect.delimiter,\n",
    "                           \".\"]))\n",
    "\n",
    "            input_file.close() # tidy up"
   ]
  },
  {
   "cell_type": "code",
   "execution_count": null,
   "metadata": {},
   "outputs": [],
   "source": [
    "# store the Wedge headers\n",
    "headers = [\"datetime\",\"register_no\",\"emp_no\",\"trans_no\",\"upc\",\"description\",\"trans_type\",\"trans_subtype\",\"trans_status\",\"department\",\"quantity\",\"Scale\",\"cost\",\"unitPrice\",\"total\",\"regPrice\",\"altPrice\",\"tax\",\"taxexempt\",\"foodstamp\",\"wicable\",\"discount\",\"memDiscount\",\"discountable\",\"discounttype\",\"voided\",\"percentDiscount\",\"ItemQtty\",\"volDiscType\",\"volume\",\"VolSpecial\",\"mixMatch\",\"matched\",\"memType\",\"staff\",\"numflag\",\"itemstatus\",\"tenderstatus\",\"charflag\",\"varflag\",\"batchHeaderID\",\"local\",\"organic\",\"display\",\"receipt\",\"card_no\",\"store\",\"branch\",\"match_id\",\"trans_id\"]"
   ]
  },
  {
   "cell_type": "code",
   "execution_count": null,
   "metadata": {},
   "outputs": [],
   "source": [
    "# this section does the work of cleaning and storing the cleaned wedge data with consistent headers in the temp folder temp_clean_lg\n",
    "if not os.path.isdir(\"temp_clean_lg\") : # if folder exists\n",
    "    os.mkdir(\"temp_clean_lg\")           # if not, make it\n",
    "\n",
    "for zip_file in zip_files : # start the loop for data cleaning\n",
    "    \n",
    "    with ZipFile(\"WedgeZipFiles/ZipFiles/\" + zip_file,'r') as my_zip_file : \n",
    "    \n",
    "        files_inside = my_zip_file.namelist()\n",
    "        for zipped_file in files_inside :\n",
    "            sniffer = csv.Sniffer()\n",
    "\n",
    "            print(f\"Processing {zipped_file} now.\") # print which file is being worked on to monitor status\n",
    "            \n",
    "            with my_zip_file.open(zipped_file,'r') as input_file :\n",
    "                \n",
    "                output_file_name = input_file.name.replace(\".csv\",\"_clean.csv\") # output the cleaned wedge csv file into the temp folder with the *_clean.csv name\n",
    "\n",
    "                with open(\"temp_clean_lg/\" + output_file_name,'w') as outfile : # join the comma deliniated table with the stored header\n",
    "                    outfile.write(\",\".join(headers) + \"\\n\")\n",
    "                                    \n",
    "                    rows_printed = 0\n",
    "                    for idx, line in enumerate(input_file) :\n",
    "        \n",
    "                        file_has_header = False # set the header as false\n",
    "                        \n",
    "                        # clean the data removing null values check the delimer and make delimiters consistent as comma deliniated\n",
    "                        dialect = sniffer.sniff(line.decode(\"utf-8\"))\n",
    "                        line = line.decode(\"utf-8\").strip().split(dialect.delimiter)\n",
    "                        line = [piece.replace('\"','') for piece in line]\n",
    "                        line = [piece.replace('\\\\N','') for piece in line]\n",
    "                        line = [piece.replace('NULL','') for piece in line]\n",
    "                        \n",
    "                        # there is a data description yogurt, granola, fruit which if left with the comma deliniation creates too many columns\n",
    "                        # this code finds those columns and removes the commas from between these values and concatinates yogurt fruit and granola into the description field\n",
    "                        if len(line) != 50:\n",
    "                            new_column = (''. join(line [5:8]))\n",
    "                            del line[5:8]\n",
    "                            line.insert(5,new_column)\n",
    "                        \n",
    "                        # if the first string item in the csv has the word datetime then headers are present and set the header check object to true\n",
    "                        if idx == 0 :\n",
    "                            if 'datetime' in line[0] :\n",
    "                                file_has_header = True\n",
    "                        \n",
    "                        # if header is true then pass over the .csv file\n",
    "                        if file_has_header and idx == 0 :\n",
    "                            # don't print line\n",
    "                            pass\n",
    "                        \n",
    "                        # if there is no header then join the header to the data in the .csv\n",
    "                        else : \n",
    "                            outfile.write(\",\".join(line) + \"\\n\")\n",
    "                            rows_printed += 1"
   ]
  }
 ],
 "metadata": {
  "kernelspec": {
   "display_name": "Python 3",
   "language": "python",
   "name": "python3"
  },
  "language_info": {
   "codemirror_mode": {
    "name": "ipython",
    "version": 3
   },
   "file_extension": ".py",
   "mimetype": "text/x-python",
   "name": "python",
   "nbconvert_exporter": "python",
   "pygments_lexer": "ipython3",
   "version": "3.8.3"
  }
 },
 "nbformat": 4,
 "nbformat_minor": 4
}
